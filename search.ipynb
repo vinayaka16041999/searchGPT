{
 "cells": [
  {
   "cell_type": "markdown",
   "metadata": {},
   "source": [
    "## Wikipedia module"
   ]
  },
  {
   "cell_type": "code",
   "execution_count": 35,
   "metadata": {},
   "outputs": [],
   "source": [
    "from langchain.retrievers import WikipediaRetriever\n",
    "from langchain.tools import Tool, DuckDuckGoSearchRun\n",
    "from langchain.agents import AgentExecutor, create_react_agent\n",
    "from langchain import hub\n",
    "from langchain_community.utilities import GoogleSerperAPIWrapper\n",
    "from langchain_core.prompts import ChatPromptTemplate\n",
    "from langchain_groq import ChatGroq\n",
    "import requests\n",
    "from googleapiclient.discovery import build\n",
    "from youtube_transcript_api import YouTubeTranscriptApi"
   ]
  },
  {
   "cell_type": "code",
   "execution_count": null,
   "metadata": {},
   "outputs": [],
   "source": [
    "llm = ChatGroq(model=\"gpt-4o\", temperature=0)"
   ]
  },
  {
   "cell_type": "code",
   "execution_count": 36,
   "metadata": {},
   "outputs": [],
   "source": [
    "YOUTUBE_API_KEY = \"your-youtube-api-key\"\n",
    "youtube = build('youtube', 'v3', developerKey=YOUTUBE_API_KEY)"
   ]
  },
  {
   "cell_type": "code",
   "execution_count": 37,
   "metadata": {},
   "outputs": [],
   "source": [
    "class YouTubeSearchTool:\n",
    "    def __init__(self, max_results=2):\n",
    "        self.max_results = max_results\n",
    "        \n",
    "    def search(self, query):\n",
    "        try:\n",
    "            # Search for videos\n",
    "            search_response = youtube.search().list(\n",
    "                q=query,\n",
    "                part='id,snippet',\n",
    "                maxResults=self.max_results,\n",
    "                type='video'\n",
    "            ).execute()\n",
    "            \n",
    "            results = []\n",
    "            for item in search_response.get('items', []):\n",
    "                video_id = item['id']['videoId']\n",
    "                title = item['snippet']['title']\n",
    "                \n",
    "                # Get transcript\n",
    "                try:\n",
    "                    transcript = YouTubeTranscriptApi.get_transcript(video_id)\n",
    "                    text = \" \".join([t['text'] for t in transcript])\n",
    "                    results.append(f\"Video: {title}\\nTranscript: {text[:2000]}...\")\n",
    "                except Exception as e:\n",
    "                    results.append(f\"Video: {title}\\nNo transcript available\")\n",
    "            \n",
    "            return \"\\n\\n\".join(results)\n",
    "        except Exception as e:\n",
    "            return f\"YouTube search error: {str(e)}\"\n",
    "\n",
    "youtube_tool = Tool(\n",
    "    name=\"YouTube Search\",\n",
    "    func=YouTubeSearchTool().search,\n",
    "    description=\"Useful for finding video explanations and lecture content\"\n",
    ")"
   ]
  },
  {
   "cell_type": "code",
   "execution_count": 39,
   "metadata": {},
   "outputs": [],
   "source": [
    "# 1. Wikipedia Search Tool\n",
    "wikipedia_retriever = WikipediaRetriever(load_max_docs=3)\n",
    "wiki_tool = Tool(\n",
    "    name=\"Wikipedia Search\",\n",
    "    func=lambda query: [doc.page_content[:2000] for doc in wikipedia_retriever.get_relevant_documents(query)],\n",
    "    description=\"Useful for factual information about people, places, and historical events\"\n",
    ")"
   ]
  },
  {
   "cell_type": "code",
   "execution_count": 40,
   "metadata": {},
   "outputs": [],
   "source": [
    "# 2. Community Forum Search (Custom Implementation)\n",
    "class ForumSearchTool:\n",
    "    def __init__(self, forum_links):\n",
    "        self.forum_apis = {\n",
    "            link: self._create_forum_client(link) \n",
    "            for link in forum_links\n",
    "        }\n",
    "    \n",
    "    def _create_forum_client(self, url):\n",
    "        # Implement custom API client for your forum\n",
    "        return lambda query: requests.get(f\"{url}/search?q={query}\").json()\n",
    "        \n",
    "    def search(self, query):\n",
    "        results = []\n",
    "        for name, client in self.forum_apis.items():\n",
    "            results.extend(client(query)[:3])  # Get top 3 from each forum\n",
    "        return results\n",
    "forum_tool = Tool(\n",
    "    name=\"Community Forum Search\",\n",
    "    func=ForumSearchTool([\"forum.example1.com\", \"forum.example2.org\"]).search,\n",
    "    description=\"Useful for finding discussions and solutions from technical communities\"\n",
    ")\n"
   ]
  },
  {
   "cell_type": "code",
   "execution_count": 41,
   "metadata": {},
   "outputs": [],
   "source": [
    "# 3. Social Media Search\n",
    "social_media_tool = Tool(\n",
    "    name=\"Social Media Search\",\n",
    "    func=lambda query: DuckDuckGoSearchRun().run(f\"site:twitter.com {query} OR site:reddit.com {query}\"),\n",
    "    description=\"Useful for finding recent public opinions and trends\"\n",
    ")"
   ]
  },
  {
   "cell_type": "code",
   "execution_count": 42,
   "metadata": {},
   "outputs": [
    {
     "ename": "ValidationError",
     "evalue": "1 validation error for GoogleSerperAPIWrapper\n  Value error, Did not find serper_api_key, please add an environment variable `SERPER_API_KEY` which contains it, or pass `serper_api_key` as a named parameter. [type=value_error, input_value={}, input_type=dict]\n    For further information visit https://errors.pydantic.dev/2.8/v/value_error",
     "output_type": "error",
     "traceback": [
      "\u001b[1;31m---------------------------------------------------------------------------\u001b[0m",
      "\u001b[1;31mValidationError\u001b[0m                           Traceback (most recent call last)",
      "Cell \u001b[1;32mIn[42], line 2\u001b[0m\n\u001b[0;32m      1\u001b[0m \u001b[38;5;66;03m# 4. Multi-Engine Web Search\u001b[39;00m\n\u001b[1;32m----> 2\u001b[0m search \u001b[38;5;241m=\u001b[39m GoogleSerperAPIWrapper()  \u001b[38;5;66;03m# Requires SERPER_API_KEY\u001b[39;00m\n\u001b[0;32m      3\u001b[0m ddg_search \u001b[38;5;241m=\u001b[39m DuckDuckGoSearchRun()\n\u001b[0;32m      5\u001b[0m multi_search_tool \u001b[38;5;241m=\u001b[39m Tool(\n\u001b[0;32m      6\u001b[0m     name\u001b[38;5;241m=\u001b[39m\u001b[38;5;124m\"\u001b[39m\u001b[38;5;124mHybrid Web Search\u001b[39m\u001b[38;5;124m\"\u001b[39m,\n\u001b[0;32m      7\u001b[0m     func\u001b[38;5;241m=\u001b[39m\u001b[38;5;28;01mlambda\u001b[39;00m query: \u001b[38;5;124m\"\u001b[39m\u001b[38;5;130;01m\\n\u001b[39;00m\u001b[38;5;130;01m\\n\u001b[39;00m\u001b[38;5;124m\"\u001b[39m\u001b[38;5;241m.\u001b[39mjoin([\n\u001b[1;32m   (...)\u001b[0m\n\u001b[0;32m     11\u001b[0m     description\u001b[38;5;241m=\u001b[39m\u001b[38;5;124m\"\u001b[39m\u001b[38;5;124mCombines results from multiple search engines for comprehensive web coverage\u001b[39m\u001b[38;5;124m\"\u001b[39m\n\u001b[0;32m     12\u001b[0m )\n",
      "File \u001b[1;32md:\\anaconda3\\Lib\\site-packages\\pydantic\\main.py:193\u001b[0m, in \u001b[0;36mBaseModel.__init__\u001b[1;34m(self, **data)\u001b[0m\n\u001b[0;32m    191\u001b[0m \u001b[38;5;66;03m# `__tracebackhide__` tells pytest and some other tools to omit this function from tracebacks\u001b[39;00m\n\u001b[0;32m    192\u001b[0m __tracebackhide__ \u001b[38;5;241m=\u001b[39m \u001b[38;5;28;01mTrue\u001b[39;00m\n\u001b[1;32m--> 193\u001b[0m \u001b[38;5;28mself\u001b[39m\u001b[38;5;241m.\u001b[39m__pydantic_validator__\u001b[38;5;241m.\u001b[39mvalidate_python(data, self_instance\u001b[38;5;241m=\u001b[39m\u001b[38;5;28mself\u001b[39m)\n",
      "\u001b[1;31mValidationError\u001b[0m: 1 validation error for GoogleSerperAPIWrapper\n  Value error, Did not find serper_api_key, please add an environment variable `SERPER_API_KEY` which contains it, or pass `serper_api_key` as a named parameter. [type=value_error, input_value={}, input_type=dict]\n    For further information visit https://errors.pydantic.dev/2.8/v/value_error"
     ]
    }
   ],
   "source": [
    "# 4. Multi-Engine Web Search\n",
    "search = GoogleSerperAPIWrapper()  # Requires SERPER_API_KEY\n",
    "ddg_search = DuckDuckGoSearchRun()\n",
    "\n",
    "multi_search_tool = Tool(\n",
    "    name=\"Hybrid Web Search\",\n",
    "    func=lambda query: \"\\n\\n\".join([\n",
    "        \"Google Results:\\n\" + search.run(query),\n",
    "        \"DuckDuckGo Results:\\n\" + ddg_search.run(query)\n",
    "    ]),\n",
    "    description=\"Combines results from multiple search engines for comprehensive web coverage\"\n",
    ")\n"
   ]
  },
  {
   "cell_type": "code",
   "execution_count": null,
   "metadata": {},
   "outputs": [],
   "source": [
    "tools = [\n",
    "    wiki_tool, \n",
    "    forum_tool, \n",
    "    social_media_tool, \n",
    "    multi_search_tool, \n",
    "    youtube_tool\n",
    "]\n",
    "\n",
    "agent = initialize_agent(\n",
    "    tools, \n",
    "    llm, \n",
    "    agent_type=\"zero-shot-react-description\", \n",
    "    verbose=True\n",
    ")\n",
    "\n",
    "# User query\n",
    "query = \"Your search query here\"\n",
    "\n",
    "# Get RAG response\n",
    "response = agent.run(query)\n",
    "\n",
    "print(\"RAG Response:\\n\", response)"
   ]
  },
  {
   "cell_type": "code",
   "execution_count": null,
   "metadata": {},
   "outputs": [],
   "source": [
    "query = \"Your search query here\"\n",
    "\n",
    "# Get RAG response\n",
    "response = agent.run(query)\n",
    "\n",
    "print(\"RAG Response:\\n\", response)"
   ]
  }
 ],
 "metadata": {
  "kernelspec": {
   "display_name": "base",
   "language": "python",
   "name": "python3"
  },
  "language_info": {
   "codemirror_mode": {
    "name": "ipython",
    "version": 3
   },
   "file_extension": ".py",
   "mimetype": "text/x-python",
   "name": "python",
   "nbconvert_exporter": "python",
   "pygments_lexer": "ipython3",
   "version": "3.12.7"
  }
 },
 "nbformat": 4,
 "nbformat_minor": 2
}
